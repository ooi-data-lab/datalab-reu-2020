{
  "nbformat": 4,
  "nbformat_minor": 0,
  "metadata": {
    "colab": {
      "name": "Activity 1 Python Basics.ipynb",
      "provenance": [],
      "collapsed_sections": []
    },
    "kernelspec": {
      "name": "python3",
      "display_name": "Python 3"
    }
  },
  "cells": [
    {
      "cell_type": "markdown",
      "metadata": {
        "id": "QxxH0AcX15bs",
        "colab_type": "text"
      },
      "source": [
        "# Activity 1 - Python Basics & NDBC Weather Data\n",
        "**2020 Data Labs REU**\n",
        "\n",
        "*Written by Sage Lichtenwalner, Rutgers University, June 9, 2020*\n",
        "\n",
        "Welcome to Python!  In this notebook, we will demonstrate how you can quickly get started programming in Python, using Google's cool [Colaboratory](https://colab.research.google.com) platform. Colab is basically a free service that can run Python/Jupyter notebooks in the cloud.\n",
        "\n",
        "In this notebook, we will demonstrate some of the basics of programming Python.  If you want to lean more, there are lots of other resources and training sessions out there, including the official [Python Tutorial](https://docs.python.org/3/tutorial/).  But as an oceanographer, you don't really need to know all the ins-and-outs of programming (though it helps), especially when just starting out.  \n",
        "\n",
        "Over the next few sessions we will cover many of the basic recipes you need to:\n",
        "* Quickly load some data\n",
        "* Make some quick plots, and make them look good\n",
        "* Calculate a few basic statistics and averages\n",
        "* And save the data to a new file you can use elsewhere."
      ]
    },
    {
      "cell_type": "markdown",
      "metadata": {
        "id": "uHXHmHwv--ww",
        "colab_type": "text"
      },
      "source": [
        "## Getting Started\n",
        "\n",
        "Jupyter notebooks have two kinds of cells.  \"Markdown\" cells, like this one which can contain formatted text, and \"Code\" cells, which contain the code you will run.\n",
        "\n",
        "To execute the code in a cell, you can either:\n",
        "* click the **Play** icon on the left\n",
        "* type **Cmd (or Ctrl) + Enter** to run the cell in place \n",
        "* or type **Shift + Enter** to run the cell and move the focus to the next cell.\n",
        "\n",
        "You can try all these options on our first very elaborate piece of code in the next cell.\n",
        "\n",
        "After you execute the cell, the result will automatically display underneath the cell."
      ]
    },
    {
      "cell_type": "code",
      "metadata": {
        "id": "gQSi2cI9_EZG",
        "colab_type": "code",
        "colab": {}
      },
      "source": [
        "2+2"
      ],
      "execution_count": 0,
      "outputs": []
    },
    {
      "cell_type": "code",
      "metadata": {
        "id": "0a6RP0OvBGpl",
        "colab_type": "code",
        "colab": {}
      },
      "source": [
        "print(\"Hello, world!\")"
      ],
      "execution_count": 0,
      "outputs": []
    },
    {
      "cell_type": "code",
      "metadata": {
        "id": "Dvqpvyi2BKOv",
        "colab_type": "code",
        "colab": {}
      },
      "source": [
        "# This is a comment"
      ],
      "execution_count": 0,
      "outputs": []
    },
    {
      "cell_type": "markdown",
      "metadata": {
        "id": "U9BweOkrFcf_",
        "colab_type": "text"
      },
      "source": [
        "As we go through the notebooks, you can add your own comments or text blocks to save your notes."
      ]
    },
    {
      "cell_type": "code",
      "metadata": {
        "id": "wYHhEJnwBnsY",
        "colab_type": "code",
        "colab": {}
      },
      "source": [
        "# Your Turn: Create your own print() command here with your name\n",
        "print()"
      ],
      "execution_count": 0,
      "outputs": []
    },
    {
      "cell_type": "markdown",
      "metadata": {
        "colab_type": "text",
        "id": "i4k796DieJ0_"
      },
      "source": [
        "**A note about print()**\n",
        "\n",
        "* By default, a Colab/Jupyter notebook will print out the output from the last line, so you don't have to specify the `print()` command.  \n",
        "* However, if we want to output the results from additional lines (as we do below), we need to use `print()` on each line.\n",
        "* Sometimes, you can suppress the output from the last line by adding a semi-colon `;` at the end."
      ]
    },
    {
      "cell_type": "code",
      "metadata": {
        "id": "hP7VTnDB_dRh",
        "colab_type": "code",
        "colab": {}
      },
      "source": [
        "3\n",
        "4\n",
        "5"
      ],
      "execution_count": 0,
      "outputs": []
    },
    {
      "cell_type": "code",
      "metadata": {
        "colab_type": "code",
        "id": "rbULmpXCFJIZ",
        "colab": {}
      },
      "source": [
        "print(3)\n",
        "print(4)\n",
        "print(5)"
      ],
      "execution_count": 0,
      "outputs": []
    },
    {
      "cell_type": "markdown",
      "metadata": {
        "id": "Jr_Htihg_E7B",
        "colab_type": "text"
      },
      "source": [
        "## Some Basics\n",
        "Let's review a few basic features of programming.  \n",
        "\n",
        "First, it's great for math.  You can use addition (+), subtraction (-), multiplication (\\*), division (/) and exponents (**)."
      ]
    },
    {
      "cell_type": "code",
      "metadata": {
        "id": "NlDw--ocCZ28",
        "colab_type": "code",
        "colab": {}
      },
      "source": [
        "# Your Turn: Try some math here\n",
        "5*2"
      ],
      "execution_count": 0,
      "outputs": []
    },
    {
      "cell_type": "markdown",
      "metadata": {
        "id": "1THCSL0kCbYF",
        "colab_type": "text"
      },
      "source": [
        "The order of operations is also important."
      ]
    },
    {
      "cell_type": "code",
      "metadata": {
        "id": "k5YEVycoCdco",
        "colab_type": "code",
        "colab": {}
      },
      "source": [
        "print(5 * 2 + 3)\n",
        "print(5 * (2+3))\n",
        "print((5 * 2) + 3)"
      ],
      "execution_count": 0,
      "outputs": []
    },
    {
      "cell_type": "markdown",
      "metadata": {
        "id": "nE9GQeevCveA",
        "colab_type": "text"
      },
      "source": [
        "## Variables"
      ]
    },
    {
      "cell_type": "code",
      "metadata": {
        "id": "3Fao5FUxA8Me",
        "colab_type": "code",
        "colab": {}
      },
      "source": [
        "# We can eailsy assign variables, just like in other languages\n",
        "x = 4\n",
        "y = 2.5"
      ],
      "execution_count": 0,
      "outputs": []
    },
    {
      "cell_type": "code",
      "metadata": {
        "id": "Cv6oBNDLA91Q",
        "colab_type": "code",
        "colab": {}
      },
      "source": [
        "# And we can use them in our formulas\n",
        "print(x + y)\n",
        "print(x/y)"
      ],
      "execution_count": 0,
      "outputs": []
    },
    {
      "cell_type": "code",
      "metadata": {
        "id": "2_x4zV7LFCcs",
        "colab_type": "code",
        "colab": {}
      },
      "source": [
        "# What kind of objects are these?\n",
        "print(type(x))\n",
        "print(type(y))"
      ],
      "execution_count": 0,
      "outputs": []
    },
    {
      "cell_type": "markdown",
      "metadata": {
        "id": "AcUxD7ehCxRf",
        "colab_type": "text"
      },
      "source": [
        "## Strings"
      ]
    },
    {
      "cell_type": "code",
      "metadata": {
        "id": "uXF3zKv6_zxt",
        "colab_type": "code",
        "colab": {}
      },
      "source": [
        "# A string needs to be in quotes (single or double)\n",
        "z = 'Python is great'\n",
        "z"
      ],
      "execution_count": 0,
      "outputs": []
    },
    {
      "cell_type": "code",
      "metadata": {
        "id": "jSjoVPLcAIDW",
        "colab_type": "code",
        "colab": {}
      },
      "source": [
        "# You can't concatenate (add) strings and integers\n",
        "print( z + x )"
      ],
      "execution_count": 0,
      "outputs": []
    },
    {
      "cell_type": "code",
      "metadata": {
        "id": "CtSvgM4yAJe7",
        "colab_type": "code",
        "colab": {}
      },
      "source": [
        "# But you can multiply them!\n",
        "print( z * x )"
      ],
      "execution_count": 0,
      "outputs": []
    },
    {
      "cell_type": "code",
      "metadata": {
        "id": "f1UOtr7HALCG",
        "colab_type": "code",
        "colab": {}
      },
      "source": [
        "# If you convert an integer into a string, you can then catenate them\n",
        "print( z + ' ' + str(x) + ' you!' )"
      ],
      "execution_count": 0,
      "outputs": []
    },
    {
      "cell_type": "code",
      "metadata": {
        "id": "-zCETuuXAMqr",
        "colab_type": "code",
        "colab": {}
      },
      "source": [
        "# A better way\n",
        "print( 'Python is great %s you!' % x )"
      ],
      "execution_count": 0,
      "outputs": []
    },
    {
      "cell_type": "markdown",
      "metadata": {
        "id": "zenkK_sXAPBs",
        "colab_type": "text"
      },
      "source": [
        "## Fun with Lists\n",
        "Remember, Python uses 0-based indexes, so to grab the first element in a list you actually use \"0\".  The last element is n-1, or just \"-1\" for short. In Matlab this would be 1 to n, or 1:end."
      ]
    },
    {
      "cell_type": "code",
      "metadata": {
        "id": "JTCl0vHGAPur",
        "colab_type": "code",
        "colab": {}
      },
      "source": [
        "my_list = [3, 4, 5, 9, 12, 13]"
      ],
      "execution_count": 0,
      "outputs": []
    },
    {
      "cell_type": "code",
      "metadata": {
        "id": "JcwapC7kAP7Q",
        "colab_type": "code",
        "colab": {}
      },
      "source": [
        "# The fist item\n",
        "my_list[0]"
      ],
      "execution_count": 0,
      "outputs": []
    },
    {
      "cell_type": "code",
      "metadata": {
        "id": "0oLk1TaYAP_0",
        "colab_type": "code",
        "colab": {}
      },
      "source": [
        "# The last item\n",
        "my_list[-1]"
      ],
      "execution_count": 0,
      "outputs": []
    },
    {
      "cell_type": "code",
      "metadata": {
        "id": "2hpVK9V8AP0T",
        "colab_type": "code",
        "colab": {}
      },
      "source": [
        "# Extract a subset\n",
        "my_list[2:5]"
      ],
      "execution_count": 0,
      "outputs": []
    },
    {
      "cell_type": "code",
      "metadata": {
        "id": "B4CYNZoKV-fq",
        "colab_type": "code",
        "colab": {}
      },
      "source": [
        "# A subset from the end\n",
        "my_list[-3:]"
      ],
      "execution_count": 0,
      "outputs": []
    },
    {
      "cell_type": "code",
      "metadata": {
        "id": "N4fVWQaQAPzS",
        "colab_type": "code",
        "colab": {}
      },
      "source": [
        "# Update a value\n",
        "my_list[3] = 99\n",
        "my_list"
      ],
      "execution_count": 0,
      "outputs": []
    },
    {
      "cell_type": "code",
      "metadata": {
        "id": "vWLYxQ3AAaDU",
        "colab_type": "code",
        "colab": {}
      },
      "source": [
        "# Warning, Python variables are object references and not copies by default\n",
        "my_second_list = my_list\n",
        "print( my_second_list )\n",
        "\n",
        "my_second_list[0] = 66\n",
        "\n",
        "print( my_second_list )\n",
        "print( my_list ) # The first list has been overwritten"
      ],
      "execution_count": 0,
      "outputs": []
    },
    {
      "cell_type": "code",
      "metadata": {
        "id": "jsBIFXDRAbyB",
        "colab_type": "code",
        "colab": {}
      },
      "source": [
        "# To avoid this, create a copy of the list, which keeps the original intact\n",
        "my_list = [3, 4, 5, 9, 12]\n",
        "\n",
        "my_second_list = list(my_list) # You can also use copy.copy() or my_list[:]\n",
        "\n",
        "my_second_list[0] = 66\n",
        "\n",
        "print( my_second_list )\n",
        "print( my_list )"
      ],
      "execution_count": 0,
      "outputs": []
    },
    {
      "cell_type": "markdown",
      "metadata": {
        "id": "kU1kERQCLFUu",
        "colab_type": "text"
      },
      "source": [
        "## Arrays\n",
        "Note, a list is not an array by default.  But we can turn it into an array using the *NumPy* library.\n",
        "\n",
        "NumPy is an essential library for working with scientific data. It provides an array object that is very similar to Matlab's array functionality, allowing you to perform mathematical calculations or run linear algebra routines."
      ]
    },
    {
      "cell_type": "code",
      "metadata": {
        "id": "jnf1SA8wJo5F",
        "colab_type": "code",
        "colab": {}
      },
      "source": [
        "my_list * x"
      ],
      "execution_count": 0,
      "outputs": []
    },
    {
      "cell_type": "code",
      "metadata": {
        "id": "C8mZCShbWtHj",
        "colab_type": "code",
        "colab": {}
      },
      "source": [
        "import numpy as np"
      ],
      "execution_count": 0,
      "outputs": []
    },
    {
      "cell_type": "code",
      "metadata": {
        "id": "D3-yiFQaJTAQ",
        "colab_type": "code",
        "colab": {}
      },
      "source": [
        "a = np.array(my_list)\n",
        "a * x"
      ],
      "execution_count": 0,
      "outputs": []
    },
    {
      "cell_type": "markdown",
      "metadata": {
        "id": "xhLtARB0WYOw",
        "colab_type": "text"
      },
      "source": [
        "Note, we won't be explicitly creating NumPy arrays much in this course.  But later on, when we load datasets using Pandas or Xarray, the actually arrays under the hood will be numpy arrays."
      ]
    },
    {
      "cell_type": "markdown",
      "metadata": {
        "id": "QSsn4neWAdIK",
        "colab_type": "text"
      },
      "source": [
        "## Dictionaries\n",
        "These are a great way to stored structured data of different types.  You'll often find metadata information inside dictionaries."
      ]
    },
    {
      "cell_type": "code",
      "metadata": {
        "id": "oAQykqhkAeHn",
        "colab_type": "code",
        "colab": {}
      },
      "source": [
        "my_dict = {'temperature': 21, 'salinity':35, 'sensor':'CTD 23'}\n",
        "my_dict"
      ],
      "execution_count": 0,
      "outputs": []
    },
    {
      "cell_type": "code",
      "metadata": {
        "id": "ADrxbbB7AhAC",
        "colab_type": "code",
        "colab": {}
      },
      "source": [
        "# Grab a list of dictionary keys\n",
        "my_dict.keys()"
      ],
      "execution_count": 0,
      "outputs": []
    },
    {
      "cell_type": "code",
      "metadata": {
        "id": "ndmWw7lSAfu2",
        "colab_type": "code",
        "colab": {}
      },
      "source": [
        "# Accessing a key/value pair\n",
        "my_dict['sensor']"
      ],
      "execution_count": 0,
      "outputs": []
    },
    {
      "cell_type": "markdown",
      "metadata": {
        "id": "vUPvO6YFAip2",
        "colab_type": "text"
      },
      "source": [
        "## Functions, Conditions and Loops\n",
        "If you're familiar with how to do these in Matlab or R, it's all very similar, just with a different syntax. \n",
        "\n",
        "Remember, Python uses spaces to group together sub-elements, rather than parentheses, curly braces, or end statements. Traditionally, you can use 2 or 4 spaces to indent lines."
      ]
    },
    {
      "cell_type": "code",
      "metadata": {
        "id": "Qx0nnCutQG_5",
        "colab_type": "code",
        "colab": {}
      },
      "source": [
        "def times_two(num):\n",
        "  return num * 2;"
      ],
      "execution_count": 0,
      "outputs": []
    },
    {
      "cell_type": "code",
      "metadata": {
        "id": "WdHlh20TQP5T",
        "colab_type": "code",
        "colab": {}
      },
      "source": [
        "times_two(3)"
      ],
      "execution_count": 0,
      "outputs": []
    },
    {
      "cell_type": "code",
      "metadata": {
        "id": "ED6K9R49OuX3",
        "colab_type": "code",
        "colab": {}
      },
      "source": [
        "def my_name(name='Sage'):\n",
        "  return name;"
      ],
      "execution_count": 0,
      "outputs": []
    },
    {
      "cell_type": "code",
      "metadata": {
        "id": "nnNYgBDeOy5y",
        "colab_type": "code",
        "colab": {}
      },
      "source": [
        "my_name()"
      ],
      "execution_count": 0,
      "outputs": []
    },
    {
      "cell_type": "markdown",
      "metadata": {
        "id": "IcPlKcJ1V3lm",
        "colab_type": "text"
      },
      "source": [
        "Here one quick example that demonstrates how to define a function, use a conditional, and iterate over a for loop all at once."
      ]
    },
    {
      "cell_type": "code",
      "metadata": {
        "id": "L9H3VuppAlLP",
        "colab_type": "code",
        "colab": {}
      },
      "source": [
        "# A more complicated function\n",
        "def my_func(number):\n",
        "  print('Running my_func')\n",
        "  if type(number)==int:\n",
        "    for i in range(number):\n",
        "      print(i)\n",
        "  else:\n",
        "    print(\"Not a number\")\n"
      ],
      "execution_count": 0,
      "outputs": []
    },
    {
      "cell_type": "code",
      "metadata": {
        "id": "nLhLban8HSSq",
        "colab_type": "code",
        "colab": {}
      },
      "source": [
        "my_func('Test')"
      ],
      "execution_count": 0,
      "outputs": []
    },
    {
      "cell_type": "code",
      "metadata": {
        "id": "2hX4I3FvHRbe",
        "colab_type": "code",
        "colab": {}
      },
      "source": [
        "my_func(4)"
      ],
      "execution_count": 0,
      "outputs": []
    },
    {
      "cell_type": "markdown",
      "metadata": {
        "id": "vY3zXFu9Hqxy",
        "colab_type": "text"
      },
      "source": [
        "## Fun with NDBC Data\n",
        "Now that we've covered some basics, let's start having some fun with actual ocean data.\n",
        "\n",
        "The [National Data Buoy Center (NDBC)](https://www.ndbc.noaa.gov) provides a great dataset to start with.  And for this example, we'll use my favorite buoy [Station 44025](https://www.ndbc.noaa.gov/station_page.php?station=44025).\n",
        "\n",
        "![NDBC Mid-Atlantic Station Map](https://www.ndbc.noaa.gov/images/maps/NorthEast.gif)\n",
        "\n",
        "To load datasets like this, there are 2 popular libraries we can use.\n",
        "\n",
        "* Pandas\n",
        "  * Great for working with \"spreadsheet-like\" tables that have headers and rows, like Excel or CSV files\n",
        "  * Can easily load text or CSV files \n",
        "* Xarray\n",
        "  * Supports multidimensional arrays (e.g. x,y,z,t)\n",
        "  * Can open NetCDF files or data from Thredds servers which are common in Oceanography\n",
        "  * If you're using a Thredds server, you don't have to load all the data to use it\n",
        "\n",
        "NDBC actually makes their data available in a variety of ways.  Text files are often more intuitive.  However, the NDBC text files require a few hoops to load a use (each file is a separate year, dates are in multiple columns, etc.).\n",
        "\n",
        "Luckily, NDBC also provides a Thredds server [DODS](https://dods.ndbc.noaa.gov), which we can use to quickly load some data to play with."
      ]
    },
    {
      "cell_type": "code",
      "metadata": {
        "id": "U5xiYqAyPMka",
        "colab_type": "code",
        "colab": {}
      },
      "source": [
        "import xarray as xr\n",
        "!pip install netcdf4"
      ],
      "execution_count": 0,
      "outputs": []
    },
    {
      "cell_type": "code",
      "metadata": {
        "id": "MN7o_buKPO7E",
        "colab_type": "code",
        "colab": {}
      },
      "source": [
        "data = xr.open_dataset('https://dods.ndbc.noaa.gov/thredds/dodsC/data/stdmet/44025/44025.ncml')"
      ],
      "execution_count": 0,
      "outputs": []
    },
    {
      "cell_type": "code",
      "metadata": {
        "id": "WFKcrSUNPSNS",
        "colab_type": "code",
        "colab": {}
      },
      "source": [
        "# The Dataset\n",
        "data"
      ],
      "execution_count": 0,
      "outputs": []
    },
    {
      "cell_type": "code",
      "metadata": {
        "id": "YIgYXHz6an6A",
        "colab_type": "code",
        "colab": {}
      },
      "source": [
        "# Let's look at one variable\n",
        "data.air_temperature"
      ],
      "execution_count": 0,
      "outputs": []
    },
    {
      "cell_type": "code",
      "metadata": {
        "id": "-7BBHVRqb6te",
        "colab_type": "code",
        "colab": {}
      },
      "source": [
        "# And one piece of metadata\n",
        "data.air_temperature.long_name"
      ],
      "execution_count": 0,
      "outputs": []
    },
    {
      "cell_type": "code",
      "metadata": {
        "id": "OQxdcxzzaq-r",
        "colab_type": "code",
        "colab": {}
      },
      "source": [
        "# Now let's make a quick plot\n",
        "data.air_temperature.plot();"
      ],
      "execution_count": 0,
      "outputs": []
    },
    {
      "cell_type": "code",
      "metadata": {
        "id": "-bPP4Ue0avNf",
        "colab_type": "code",
        "colab": {}
      },
      "source": [
        "# Let's subset the data in time\n",
        "data2 = data.sel(time=slice('2019-01-01','2020-01-01'))"
      ],
      "execution_count": 0,
      "outputs": []
    },
    {
      "cell_type": "code",
      "metadata": {
        "id": "Fu6J6e3bawhG",
        "colab_type": "code",
        "colab": {}
      },
      "source": [
        "# Let's make that quick plot again\n",
        "data2.air_temperature.plot();"
      ],
      "execution_count": 0,
      "outputs": []
    },
    {
      "cell_type": "code",
      "metadata": {
        "id": "dOt2EDY0WXnl",
        "colab_type": "code",
        "colab": {}
      },
      "source": [
        "import matplotlib.pyplot as plt"
      ],
      "execution_count": 0,
      "outputs": []
    },
    {
      "cell_type": "code",
      "metadata": {
        "id": "Sm-cFGk1PSXR",
        "colab_type": "code",
        "colab": {}
      },
      "source": [
        "# We can even plot 2 variables on one graph\n",
        "data2.air_temperature.plot(label=\"Air Temperature\")\n",
        "data2.sea_surface_temperature.plot(label=\"Sea Surface Temperature\")\n",
        "plt.legend();"
      ],
      "execution_count": 0,
      "outputs": []
    },
    {
      "cell_type": "markdown",
      "metadata": {
        "id": "11_8VZyGa-J1",
        "colab_type": "text"
      },
      "source": [
        "Tomorrow, we'll delve a lot more into data visualization and many of the other plotting commands you can use.  But now, it's your turn to create your own plots. \n",
        "\n",
        "Try plotting different:\n",
        "* Variables (see options above)\n",
        "* Time ranges (you will need to reload the dataset)\n",
        "* Different stations (you will need to change the dataset URL). Check out the [NDBC homepage](https://www.ndbc.noaa.gov) for available stations\n",
        "\n",
        "As you create your graphs, try to write *figure captions* that describe what you think is going on."
      ]
    },
    {
      "cell_type": "code",
      "metadata": {
        "id": "DGeLchEtPSgm",
        "colab_type": "code",
        "colab": {}
      },
      "source": [
        "# Your Turn: Create some plots "
      ],
      "execution_count": 0,
      "outputs": []
    },
    {
      "cell_type": "code",
      "metadata": {
        "id": "43_sS5K4cm85",
        "colab_type": "code",
        "colab": {}
      },
      "source": [
        ""
      ],
      "execution_count": 0,
      "outputs": []
    },
    {
      "cell_type": "code",
      "metadata": {
        "id": "4ENykXphciuG",
        "colab_type": "code",
        "colab": {}
      },
      "source": [
        ""
      ],
      "execution_count": 0,
      "outputs": []
    },
    {
      "cell_type": "code",
      "metadata": {
        "id": "sdDkr17McjDd",
        "colab_type": "code",
        "colab": {}
      },
      "source": [
        ""
      ],
      "execution_count": 0,
      "outputs": []
    },
    {
      "cell_type": "code",
      "metadata": {
        "id": "ZrvA7X25KnDc",
        "colab_type": "code",
        "colab": {}
      },
      "source": [
        ""
      ],
      "execution_count": 0,
      "outputs": []
    },
    {
      "cell_type": "markdown",
      "metadata": {
        "id": "b5z6araEkYhC",
        "colab_type": "text"
      },
      "source": [
        "### Additional Intros and References\n",
        "[2019 Data Labs Quick Intro to Pytyon](https://github.com/ooi-data-lab/data-lab-workshops/blob/master/Summer_Examples/Python_Introduction.ipynb)\n",
        "\n",
        "[2018 Python Basics for Matlab Wizards](https://github.com/ooi-data-review/2018-data-workshops/blob/master/chemistry/examples/extras2/Python_Basics_for_Matlab_Wizards.ipynb)\n",
        "\n",
        "[Rowe Getting Started with Python](https://github.com/prowe12/python_resources/blob/master/Introduction_to_python3.ipynb)"
      ]
    }
  ]
}
